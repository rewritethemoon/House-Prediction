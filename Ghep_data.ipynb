{
 "cells": [
  {
   "cell_type": "code",
   "execution_count": 2,
   "metadata": {},
   "outputs": [
    {
     "name": "stdout",
     "output_type": "stream",
     "text": [
      "       Price    Area Bedrooms     WC  \\\n",
      "0     2.9 tỷ  214 m2     2 PN   2 WC   \n",
      "1   12 triệu  200 m2    12 PN  12 WC   \n",
      "2  850 triệu   60 m2     3 PN   2 WC   \n",
      "3  760 triệu   44 m2     2 PN   2 WC   \n",
      "4    2.48 tỷ  138 m2     1 PN   1 WC   \n",
      "\n",
      "                                             Address  \\\n",
      "0                                                NaN   \n",
      "1                                             quận 2   \n",
      "2                                                NaN   \n",
      "3                                                NaN   \n",
      "4  Đường ấp 1A xã vĩnh lộc A huyện bình chánh tp....   \n",
      "\n",
      "                                            Describe             csv_file  \\\n",
      "0  - Nhà cấp 4, ngang 4m nở hậu 7.5m dài 37m công...  data_binh_chanh.csv   \n",
      "1  ???? Discover the Power of Facebook Advertisin...  data_binh_chanh.csv   \n",
      "2  Nhà 1 triệt 1 lầu 3phong ngủ 2wc\\r\\nDiện tích ...  data_binh_chanh.csv   \n",
      "3  Tình trạng\\r\\nMới\\r\\nBÁN NHÀ HẺM ĐƯỜNG AN HẠ, ...  data_binh_chanh.csv   \n",
      "4  Cần bán nhà để trả nợ do làm ăn thua lỗ, nợ ng...  data_binh_chanh.csv   \n",
      "\n",
      "  House Price Area.1 Bedrooms.1 Bathrooms Address.1 Length Width Facade  \\\n",
      "0         NaN    NaN        NaN       NaN       NaN    NaN   NaN    NaN   \n",
      "1         NaN    NaN        NaN       NaN       NaN    NaN   NaN    NaN   \n",
      "2         NaN    NaN        NaN       NaN       NaN    NaN   NaN    NaN   \n",
      "3         NaN    NaN        NaN       NaN       NaN    NaN   NaN    NaN   \n",
      "4         NaN    NaN        NaN       NaN       NaN    NaN   NaN    NaN   \n",
      "\n",
      "  Floors Address_x Address_y  \n",
      "0    NaN       NaN       NaN  \n",
      "1    NaN       NaN       NaN  \n",
      "2    NaN       NaN       NaN  \n",
      "3    NaN       NaN       NaN  \n",
      "4    NaN       NaN       NaN  \n"
     ]
    }
   ],
   "source": [
    "import os\n",
    "import pandas as pd\n",
    "\n",
    "folder_path = 'D:\\\\HKII_2023_2024_CODE\\\\NhapmonKHDL\\\\TESTDOAN'\n",
    "csv_files = [f for f in os.listdir(folder_path) if f.endswith('.csv')]\n",
    "\n",
    "dataframes = []\n",
    "for csv_file in csv_files:\n",
    "    df = pd.read_csv(os.path.join(folder_path, csv_file))\n",
    "    df['csv_file'] = csv_file  # Thêm cột 'csv_file' chứa tên file csv gốc\n",
    "    dataframes.append(df)\n",
    "\n",
    "combined_df = pd.concat(dataframes, ignore_index=True)\n",
    "\n",
    "print(combined_df.head())\n"
   ]
  },
  {
   "cell_type": "code",
   "execution_count": 33,
   "metadata": {},
   "outputs": [
    {
     "name": "stdout",
     "output_type": "stream",
     "text": [
      "<class 'pandas.core.frame.DataFrame'>\n",
      "RangeIndex: 9945 entries, 0 to 9944\n",
      "Data columns (total 7 columns):\n",
      " #   Column    Non-Null Count  Dtype \n",
      "---  ------    --------------  ----- \n",
      " 0   Price     9945 non-null   object\n",
      " 1   Area      8931 non-null   object\n",
      " 2   Bedrooms  6044 non-null   object\n",
      " 3   WC        5767 non-null   object\n",
      " 4   Address   5116 non-null   object\n",
      " 5   Describe  9945 non-null   object\n",
      " 6   csv_file  9945 non-null   object\n",
      "dtypes: object(7)\n",
      "memory usage: 544.0+ KB\n"
     ]
    }
   ],
   "source": [
    "combined_df.info()"
   ]
  },
  {
   "cell_type": "code",
   "execution_count": 4,
   "metadata": {},
   "outputs": [],
   "source": [
    "combined_df = combined_df.rename(columns={'csv_file': 'Khu_vuc'})"
   ]
  },
  {
   "cell_type": "code",
   "execution_count": 5,
   "metadata": {},
   "outputs": [],
   "source": [
    "combined_df.to_csv('data_crawl.csv', index=False)"
   ]
  }
 ],
 "metadata": {
  "kernelspec": {
   "display_name": "NhapMonKHDL",
   "language": "python",
   "name": "python3"
  },
  "language_info": {
   "codemirror_mode": {
    "name": "ipython",
    "version": 3
   },
   "file_extension": ".py",
   "mimetype": "text/x-python",
   "name": "python",
   "nbconvert_exporter": "python",
   "pygments_lexer": "ipython3",
   "version": "3.9.18"
  }
 },
 "nbformat": 4,
 "nbformat_minor": 2
}
