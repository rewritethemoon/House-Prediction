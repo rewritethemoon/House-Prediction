{
 "cells": [
  {
   "cell_type": "code",
   "execution_count": 5,
   "metadata": {},
   "outputs": [
    {
     "name": "stdout",
     "output_type": "stream",
     "text": [
      "2250\n"
     ]
    }
   ],
   "source": [
    "import pandas as pd\n",
    "\n",
    "# Specify the file path\n",
    "file_path = 'data_crawl.csv'\n",
    "\n",
    "# Read the CSV file into a DataFrame\n",
    "df = pd.read_csv(file_path, encoding='utf-8')\n",
    "\n",
    "# Display the DataFrame\n",
    "print(df.shape[0])"
   ]
  },
  {
   "cell_type": "markdown",
   "metadata": {},
   "source": [
    "<h4>Nhóm em sử dụng file crawl data lấy từ web bán nhà đất sẽ gồm có 5 feature là giá nhà, diện tích, số phòng ngủ, số nhà vệ sinh và mô tả. Sau đó sẽ áp dụng large language model lên trên cột mô tả để lấy thêm thông tin cần chiết xuất<h4>"
   ]
  },
  {
   "cell_type": "code",
   "execution_count": 2,
   "metadata": {},
   "outputs": [
    {
     "name": "stdout",
     "output_type": "stream",
     "text": [
      "Tách file CSV thành công!\n"
     ]
    }
   ],
   "source": [
    "\n",
    "# Tính số lượng dòng mỗi file\n",
    "num_rows_per_file = 2250\n",
    "\n",
    "# Tính số lượng file cần tạo\n",
    "num_files = 8\n",
    "\n",
    "output_dir = 'C:\\\\Users\\\\Admin\\\\Downloads'\n",
    "\n",
    "# Tách file thành nhiều file nhỏ\n",
    "for i in range(num_files):\n",
    "    start_row = i * num_rows_per_file\n",
    "    end_row = (i + 1) * num_rows_per_file\n",
    "    df_chunk = df.iloc[start_row:end_row]\n",
    "    df_chunk.to_csv(f'{output_dir}\\\\file_part_{i+1}.csv', index=False)\n",
    "\n",
    "print(\"Tách file CSV thành công!\")\n"
   ]
  },
  {
   "cell_type": "markdown",
   "metadata": {},
   "source": [
    "<h4>Tuy nhiên trong quá trình áp dụng LLM lên trên file gồm có 18.000 data thì thời gian chạy rất lâu lên đến 6 tiếng đồng hồ nên em quyết định sẽ tách file lớn gồm 18.000 data thành 8 file nhỏ khác nhau, sau đó sẽ sử dụng LLM lên trên mỗi file nhỏ này sau đó sẽ ghép lại để tạo được 1 file hoàn chỉnh và tiết kiệm được thời gian<h4>"
   ]
  },
  {
   "cell_type": "code",
   "execution_count": 6,
   "metadata": {},
   "outputs": [
    {
     "name": "stdout",
     "output_type": "stream",
     "text": [
      "           Price   Area Bedrooms    WC                      Address  \\\n",
      "0     Thỏa thuận    NaN      NaN   NaN                          NaN   \n",
      "1        1.35 tỷ  15 m2     2 PN  2 WC                          NaN   \n",
      "2         6.5 tỷ  55 m2      NaN   NaN         Lê Văn Sỹ, Phú Nhuận   \n",
      "3      980 triệu  72 m2      NaN   NaN                          NaN   \n",
      "4          13 tỷ  81 m2      NaN   NaN                          NaN   \n",
      "...          ...    ...      ...   ...                          ...   \n",
      "2245  Thỏa thuận  70 m2      NaN   NaN               Huỳnh Văn Nghệ   \n",
      "2246      5.8 tỷ  83 m2     5 PN  5 WC                  QUẬN GÒ VẤP   \n",
      "2247      4.7 tỷ  85 m2     3 PN  2 WC                       QUẬN 7   \n",
      "2248        6 tỷ  84 m2      NaN   NaN           Nhà Phố Thương Mại   \n",
      "2249      9.4 tỷ  90 m2      NaN   NaN  Thành phố Hồ Chí Minh   \n",
      "\n",
      "                                               Describe \"House price\" \"Area\"  \\\n",
      "0     Chính chủ gửi bán căn nhà hẻm đường Bông Sao, ...          1.9,    48,   \n",
      "1     - Địa chỉ: Nguyễn Văn Trỗi, Phường 8 Phú Nhu...         1.35,    15,   \n",
      "2     + Nhà kết cấu 3 tầng, 3 phòng ngủ lớn, phòng k...           NaN  49.5,   \n",
      "3     BÁN NHÀ ĐƯỜNG SỐ HẺM LỚN-XE HƠI VÀO NHÀ- TẶNG ...         0.95,    60,   \n",
      "4     - Chủ nhà kẹt vốn bán gấp căn nhà mặt tiền đườ...         null,  81.0,   \n",
      "...                                                 ...           ...    ...   \n",
      "2245  + Nhà cực kỳ đẹp 5 tầng đúc BTCT, khu vực xung...          6.8,  NULL,   \n",
      "2246  + 2 MẶT TIỀN, HẺM XE HƠI\\r\\n+ ĐƯỜNG TRƯỚC NHÀ ...         1.05,  NULL,   \n",
      "2247  Mô tả: \\r\\n+ Chính chủ gửi bán nhà ngang 7.5m,...          4.7,  NULL,   \n",
      "2248  *** CĂN NGOẠI GIAO ***\\r\\n____________________...            6,  NULL,   \n",
      "2249  + Diện tích 4 x 22.5m\\n\\r\\n+ Kết cấu: 5 tầng B...          9.4,    90,   \n",
      "\n",
      "     \"Bedrooms\" \"Bathrooms\"  ... \" Floors\" \"House_price\" {\"House price\"  \\\n",
      "0            2,          2,  ...       NaN           NaN            NaN   \n",
      "1           NaN          2,  ...       NaN           NaN            NaN   \n",
      "2            3,       null,  ...       NaN           NaN            NaN   \n",
      "3            4,          5,  ...       NaN           NaN            NaN   \n",
      "4         null,       null,  ...       NaN           NaN            NaN   \n",
      "...         ...         ...  ...       ...           ...            ...   \n",
      "2245         2,       NULL,  ...       NaN           NaN            NaN   \n",
      "2246      NULL,       NULL,  ...       NaN           NaN            NaN   \n",
      "2247         3,          2,  ...       NaN           NaN            NaN   \n",
      "2248      NULL,       NULL,  ...       NaN           NaN            NaN   \n",
      "2249      NULL,       NULL,  ...       NaN           NaN            NaN   \n",
      "\n",
      "     Floors\" Floors \"Floor\" {\"House Price\" \"bedrooms\" \" floors\" \"Houses\"  \n",
      "0        NaN    NaN     NaN            NaN        NaN       NaN      NaN  \n",
      "1        NaN    NaN     NaN            NaN        NaN       NaN      NaN  \n",
      "2        NaN    NaN     NaN            NaN        NaN       NaN      NaN  \n",
      "3        NaN    NaN     NaN            NaN        NaN       NaN      NaN  \n",
      "4        NaN    NaN     NaN            NaN        NaN       NaN      NaN  \n",
      "...      ...    ...     ...            ...        ...       ...      ...  \n",
      "2245     NaN    NaN     NaN            NaN        NaN       NaN      NaN  \n",
      "2246     NaN    NaN     NaN            NaN        NaN       NaN      NaN  \n",
      "2247     NaN    NaN     NaN            NaN        NaN       NaN      NaN  \n",
      "2248     NaN    NaN     NaN            NaN        NaN       NaN      NaN  \n",
      "2249     NaN    NaN     NaN            NaN        NaN       NaN      NaN  \n",
      "\n",
      "[2250 rows x 28 columns]\n",
      "Số lượng dòng ban đầu: 2250\n",
      "Số lượng dòng sau khi xử lý: 2250\n"
     ]
    }
   ],
   "source": [
    "import os\n",
    "import requests\n",
    "import pandas as pd\n",
    "import json\n",
    "from concurrent.futures import ThreadPoolExecutor, as_completed\n",
    "\n",
    "s = requests.Session()\n",
    "\n",
    "api_base = \"https://api.endpoints.anyscale.com/v1\"\n",
    "token = \"esecret_51ed919nz1kq7wqv6bpgcl6pb7\"\n",
    "url = f\"{api_base}/chat/completions\"\n",
    "\n",
    "responses = []\n",
    "\n",
    "# Hàm để gửi yêu cầu API và xử lý phản hồi\n",
    "def process_description(index, describe_text):\n",
    "    text_input = f\"\"\"\n",
    "    Extract information from the following information. The output is json include: House price, Area, Bedrooms, Bathrooms,Address, Length, Width, Facade, Floors.\n",
    "\n",
    "    In which, the output for house price, area, bedrooms, bathrooms, length, width, floors should be a single numeric value.\n",
    "    Facade has only two possible results: 1 (equivalent to \"Yes\"), 0 (equivalent to \"No\").\n",
    "    In case house price, area, bedrooms, bathrooms, address, length, width, facade, or floors have no data, return NULL.\n",
    "    The output result should be only JSON, no explanation for the API response is needed.\n",
    "    The standard unit for house price is billion.\n",
    "    This is the text:\n",
    "    {describe_text}\n",
    "    \"\"\"\n",
    "\n",
    "    body = {\n",
    "      \"model\": \"meta-llama/Meta-Llama-3-70B-Instruct\",\n",
    "      \"messages\": [\n",
    "        {\n",
    "          \"role\": \"system\",\n",
    "          \"content\": \"you are a data scientist\"\n",
    "        },\n",
    "        {\n",
    "          \"role\": \"user\",\n",
    "          \"content\": text_input\n",
    "        }\n",
    "      ],\n",
    "      \"temperature\": 1,\n",
    "      \"max_tokens\": 256,\n",
    "      \"top_p\": 1,\n",
    "      \"frequency_penalty\": 0\n",
    "    }\n",
    "\n",
    "    try:\n",
    "        with s.post(url, headers={\"Authorization\": f\"Bearer {token}\"}, json=body, timeout=30) as resp:\n",
    "            try:\n",
    "                output = resp.json()\n",
    "\n",
    "                # Trích xuất nội dung JSON từ phản hồi API\n",
    "                choices = output.get('choices', [])\n",
    "                if choices:\n",
    "                    content = choices[0].get('message', {}).get('content', '')\n",
    "                    json_start = content.find('{')\n",
    "                    json_end = content.rfind('}') + 1\n",
    "                    json_content = content[json_start:json_end]\n",
    "\n",
    "                    # Parse the API response as a string and extract key-value pairs\n",
    "                    data = {}\n",
    "                    for line in json_content.split('\\n'):\n",
    "                        if ':' in line:\n",
    "                            key_value = line.split(':', 1)\n",
    "                            if len(key_value) == 2:\n",
    "                                key = key_value[0].strip()\n",
    "                                value = key_value[1].strip()\n",
    "                                data[key] = value\n",
    "\n",
    "                    return index, data\n",
    "                else:\n",
    "                    print(f\"No choices in response for: {describe_text}\")\n",
    "\n",
    "            except json.JSONDecodeError as e:\n",
    "                print(f\"JSON decoding error with description: {describe_text}\")\n",
    "                print(e)\n",
    "\n",
    "    except (requests.exceptions.RequestException, requests.exceptions.Timeout) as e:\n",
    "        print(f\"HTTP request error with description: {describe_text}\")\n",
    "        print(e)\n",
    "        return None\n",
    "\n",
    "    return None\n",
    "\n",
    "# Sử dụng ThreadPoolExecutor để gửi yêu cầu API đồng thời\n",
    "max_workers = 18  # Số luồng tối đa\n",
    "with ThreadPoolExecutor(max_workers=max_workers) as executor:\n",
    "    futures = [executor.submit(process_description, index, describe_text) for index, describe_text in df['Describe'].items()]\n",
    "    \n",
    "    for future in as_completed(futures):\n",
    "        result = future.result()\n",
    "        if result:\n",
    "            responses.append(result)\n",
    "\n",
    "# Tạo DataFrame từ danh sách các tuple (index, dictionary), xử lý trường hợp thiếu dữ liệu\n",
    "if responses:\n",
    "    responses.sort(key=lambda x: x[0])  # Sắp xếp theo index\n",
    "    df_responses = pd.DataFrame([data for index, data in responses], index=[index for index, data in responses])\n",
    "else:\n",
    "    df_responses = pd.DataFrame(columns=['Giá nhà', 'Diện tích', 'Phòng ngủ', 'Phòng WC', 'Địa chỉ','Bề dài','Bề ngang','Mặt tiền','Số tầng'])\n",
    "\n",
    "# Kết hợp dữ liệu gốc và dữ liệu mới\n",
    "df_combined = df.join(df_responses)\n",
    "\n",
    "# Hiển thị DataFrame kết hợp\n",
    "print(df_combined)\n",
    "\n",
    "# Kiểm tra và ghi log số lượng dòng đầu vào và đầu ra\n",
    "print(f\"Số lượng dòng ban đầu: {len(df)}\")\n",
    "print(f\"Số lượng dòng sau khi xử lý: {len(df_responses)}\")\n"
   ]
  },
  {
   "cell_type": "markdown",
   "metadata": {},
   "source": [
    "<h4> Nhóm em sẽ sử dụng API Anyscale để chạy LLM trên file code nhỏ,em sẽ chiết xuất 'Giá nhà', 'Diện tích', 'Phòng ngủ', 'Phòng WC', 'Địa chỉ','Bề dài','Bề ngang','Mặt tiền','Số tầng' từ mô tả bằng LLM. Em sẽ sử dụng đa luồng để gửi API đồng thời nhằm tăng thời gian chạy của code. Output sẽ gồm data crawl gốc kết hợp với 9 feature : 'Giá nhà', 'Diện tích', 'Phòng ngủ', 'Phòng WC', 'Địa chỉ','Bề dài','Bề ngang','Mặt tiền','Số tầng' lấy được từ mô tả bằng LLM <h4>"
   ]
  },
  {
   "cell_type": "code",
   "execution_count": 7,
   "metadata": {},
   "outputs": [
    {
     "name": "stdout",
     "output_type": "stream",
     "text": [
      "           Price   Area Bedrooms    WC                      Address  \\\n",
      "0     Thỏa thuận    NaN      NaN   NaN                          NaN   \n",
      "1        1.35 tỷ  15 m2     2 PN  2 WC                          NaN   \n",
      "2         6.5 tỷ  55 m2      NaN   NaN         Lê Văn Sỹ, Phú Nhuận   \n",
      "3      980 triệu  72 m2      NaN   NaN                          NaN   \n",
      "4          13 tỷ  81 m2      NaN   NaN                          NaN   \n",
      "...          ...    ...      ...   ...                          ...   \n",
      "2245  Thỏa thuận  70 m2      NaN   NaN               Huỳnh Văn Nghệ   \n",
      "2246      5.8 tỷ  83 m2     5 PN  5 WC                  QUẬN GÒ VẤP   \n",
      "2247      4.7 tỷ  85 m2     3 PN  2 WC                       QUẬN 7   \n",
      "2248        6 tỷ  84 m2      NaN   NaN           Nhà Phố Thương Mại   \n",
      "2249      9.4 tỷ  90 m2      NaN   NaN  Thành phố Hồ Chí Minh   \n",
      "\n",
      "                                               Describe \"House price\" \"Area\"  \\\n",
      "0     Chính chủ gửi bán căn nhà hẻm đường Bông Sao, ...          1.9,    48,   \n",
      "1     - Địa chỉ: Nguyễn Văn Trỗi, Phường 8 Phú Nhu...         1.35,    15,   \n",
      "2     + Nhà kết cấu 3 tầng, 3 phòng ngủ lớn, phòng k...           NaN  49.5,   \n",
      "3     BÁN NHÀ ĐƯỜNG SỐ HẺM LỚN-XE HƠI VÀO NHÀ- TẶNG ...         0.95,    60,   \n",
      "4     - Chủ nhà kẹt vốn bán gấp căn nhà mặt tiền đườ...         null,  81.0,   \n",
      "...                                                 ...           ...    ...   \n",
      "2245  + Nhà cực kỳ đẹp 5 tầng đúc BTCT, khu vực xung...          6.8,  NULL,   \n",
      "2246  + 2 MẶT TIỀN, HẺM XE HƠI\\r\\n+ ĐƯỜNG TRƯỚC NHÀ ...         1.05,  NULL,   \n",
      "2247  Mô tả: \\r\\n+ Chính chủ gửi bán nhà ngang 7.5m,...          4.7,  NULL,   \n",
      "2248  *** CĂN NGOẠI GIAO ***\\r\\n____________________...            6,  NULL,   \n",
      "2249  + Diện tích 4 x 22.5m\\n\\r\\n+ Kết cấu: 5 tầng B...          9.4,    90,   \n",
      "\n",
      "     \"Bedrooms\" \"Bathrooms\"                               \"Address\" \"Length\"  \\\n",
      "0            2,          2,        \"ذه Bông Sao, phường 1, Quận 8\",       4,   \n",
      "1           NaN          2,  \"Nguyễn Văn Trỗi, Phường 8 Phú Nhuận\",     6.3,   \n",
      "2            3,       null,                       \"quận 1, quận 3\",      11,   \n",
      "3            4,          5,                     \"ĐƯỜNG SỐ HẺM LỚN\",      15,   \n",
      "4         null,       null,                                   null,    18.0,   \n",
      "...         ...         ...                                     ...      ...   \n",
      "2245         2,       NULL,                     \"Nhà Phố Nhân Văn\",    NULL,   \n",
      "2246      NULL,       NULL,                           \"HẺM XE HƠI\",    NULL,   \n",
      "2247         3,          2,                               \"Quận 7\",     7.5,   \n",
      "2248      NULL,       NULL,                         \"Tp Thanh Hoá\",    NULL,   \n",
      "2249      NULL,       NULL,                                   NULL,       4,   \n",
      "\n",
      "     \"Width\" \"Facade\" \"Floors\"  \n",
      "0        12,       1,        2  \n",
      "1       2.5,       1,        2  \n",
      "2       4.5,       1,        3  \n",
      "3         4,       1,        4  \n",
      "4       4.5,       1,      5.0  \n",
      "...      ...      ...      ...  \n",
      "2245      6,       1,        5  \n",
      "2246   NULL,       1,     NULL  \n",
      "2247   NULL,       1,        2  \n",
      "2248   NULL,       1,        5  \n",
      "2249   22.5,       1,        5  \n",
      "\n",
      "[2250 rows x 15 columns]\n"
     ]
    }
   ],
   "source": [
    "\n",
    "# Assuming df is your DataFrame\n",
    "df_first_15_columns = df_combined.iloc[:, 0:15]\n",
    "print(df_first_15_columns)"
   ]
  },
  {
   "cell_type": "markdown",
   "metadata": {},
   "source": [
    "<h4> Tuy nhiên thì dữ liệu trả về của LLM sẽ có những column bị nhiễu do trong quá trình xử lý mô tả sẽ có rất nhiều mô tả viết ở những dạng khác nhau dẫn đến\n",
    "việc xử lý dẫn đến sai số, vì thế nhóm em sẽ chỉ lấy 15 cột đầu tiền của output vì 15 cột đầu tiên của output sẽ có thể bao gồm được 6 features của data crawl và 9 features lấy được trong mô tả <h4>"
   ]
  },
  {
   "cell_type": "code",
   "execution_count": 8,
   "metadata": {},
   "outputs": [],
   "source": [
    "df_first_15_columns.to_csv('C:\\\\Users\\\\Admin\\\\Downloads\\\\1.csv', index=False)"
   ]
  },
  {
   "cell_type": "markdown",
   "metadata": {},
   "source": [
    "<h4> Sau đấy em sẽ xuất dần dần 8 output thành 8 file kết quả <h4>"
   ]
  },
  {
   "cell_type": "code",
   "execution_count": null,
   "metadata": {},
   "outputs": [],
   "source": [
    "\n",
    "# Địa chỉ của 8 file CSV\n",
    "csv_files = [\n",
    "    'C:\\\\Users\\\\Admin\\\\Downloads\\\\1.csv',\n",
    "    'C:\\\\Users\\\\Admin\\\\Downloads\\\\2.csv',\n",
    "    'C:\\\\Users\\\\Admin\\\\Downloads\\\\file_part_3_update(2).csv',\n",
    "    'C:\\\\Users\\\\Admin\\\\Downloads\\\\file_part_4_update (1).csv',\n",
    "    'C:\\\\Users\\\\Admin\\\\Downloads\\\\5.csv',\n",
    "    'C:\\\\Users\\\\Admin\\\\Downloads\\\\6_new.csv',\n",
    "    'C:\\\\Users\\\\Admin\\\\Downloads\\\\file_part_7_output.csv',\n",
    "    'C:\\\\Users\\\\Admin\\\\Downloads\\\\8.csv'\n",
    "]\n",
    "\n",
    "# Đọc và nối tất cả các file CSV vào một DataFrame duy nhất\n",
    "df_list = [pd.read_csv(file) for file in csv_files]\n",
    "combined_df = pd.concat(df_list, ignore_index=True)\n",
    "\n",
    "# Ghi DataFrame kết hợp ra file CSV mới\n",
    "output_file = 'C:\\\\Users\\\\Admin\\\\Downloads\\\\data_crawl+llm.csv'\n",
    "combined_df.to_csv(output_file, index=False)\n",
    "\n",
    "print(f\"Đã ghép thành công 8 file CSV thành file {output_file}\")\n"
   ]
  },
  {
   "cell_type": "markdown",
   "metadata": {},
   "source": [
    "<h4> Em sẽ ghép 8 file này thành 1 file hoàn chỉnh bao gồm data_crawl+llm <h4>"
   ]
  }
 ],
 "metadata": {
  "kernelspec": {
   "display_name": "Python 3",
   "language": "python",
   "name": "python3"
  },
  "language_info": {
   "codemirror_mode": {
    "name": "ipython",
    "version": 3
   },
   "file_extension": ".py",
   "mimetype": "text/x-python",
   "name": "python",
   "nbconvert_exporter": "python",
   "pygments_lexer": "ipython3",
   "version": "3.12.2"
  }
 },
 "nbformat": 4,
 "nbformat_minor": 2
}
